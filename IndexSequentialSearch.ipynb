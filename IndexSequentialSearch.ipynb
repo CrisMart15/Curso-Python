{
  "nbformat": 4,
  "nbformat_minor": 0,
  "metadata": {
    "colab": {
      "name": "IndexSequentialSearch.ipynb",
      "provenance": []
    },
    "kernelspec": {
      "name": "python3",
      "display_name": "Python 3"
    },
    "language_info": {
      "name": "python"
    }
  },
  "cells": [
    {
      "cell_type": "markdown",
      "metadata": {
        "id": "_tAGjheOWkFZ"
      },
      "source": [
        "#**Busqueda (Index Sequential Search)**"
      ]
    },
    {
      "cell_type": "markdown",
      "metadata": {
        "id": "a8nuauteW-Q0"
      },
      "source": [
        "Lo primero que hace es crear una lista donde guarda índices de un grupo o división de un registro requerido, posteriormente busca en los índices el grupo o división."
      ]
    },
    {
      "cell_type": "markdown",
      "metadata": {
        "id": "gxSiD5V9XWEm"
      },
      "source": [
        "*Características*\n",
        "* En la busqueda secuencial indexada, se reserva un índice ordenado además de la matriz.\n",
        "* Cada elemento del índice apunta a un bloque de elementos de la matriz u otro índice expandido.\n",
        "* Primero se busca en el índice y luego en la matriz y guía la búsqueda en la matriz.\n",
        "* El término dominante en notación Big O depende totalmente del método de búsqueda que se ocupe una vez dada la indexación."
      ]
    },
    {
      "cell_type": "code",
      "metadata": {
        "id": "uhVbf8i5gAiX"
      },
      "source": [
        "def indexedSequentialSearch(items,value,group_division):\n",
        "  elements = [0] * 20\n",
        "  indices = [0] * 20\n",
        "  i,j,index,end = 0,0,0,0\n",
        "\n",
        "  flag = 0\n",
        "\n",
        "  for i in range(0,len(items),group_division):\n",
        "    elements[index]= items[i]\n",
        "    indices[index] = i \n",
        "    index += 1\n",
        "  \n",
        "  if value < elements[0]:\n",
        "    print('No se encuentra el valor')\n",
        "    return exit(0)\n",
        "\n",
        "  else:\n",
        "    for i in range(0, index + 1):\n",
        "      if value <= elements[i]:\n",
        "        start = indices[i-1]\n",
        "        end = indices[i]\n",
        "        flag = 1\n",
        "        break\n",
        "\n",
        "  if flag == 0:\n",
        "    start = indices[i-1]\n",
        "    end = len(items)\n",
        "\n",
        "  for i in range(start,end+1):\n",
        "    if value == items[i]:\n",
        "      j = 1\n",
        "      break\n",
        "\n",
        "  if j == 1:\n",
        "    print('Mi valor fue encontrado en la posiición', i)\n",
        "\n",
        "  else:\n",
        "    print('No se encuentra')"
      ],
      "execution_count": 13,
      "outputs": []
    },
    {
      "cell_type": "code",
      "metadata": {
        "colab": {
          "base_uri": "https://localhost:8080/"
        },
        "id": "jn-VWlJLgiAv",
        "outputId": "cd9aa477-b88f-4d5a-88f4-c4a716a9eea3"
      },
      "source": [
        "items = [12,15,17,21,28,36,57,81,99]\n",
        "indexedSequentialSearch(items,15,3)"
      ],
      "execution_count": 14,
      "outputs": [
        {
          "output_type": "stream",
          "text": [
            "Mi valor fue encontrado en la posiición 1\n"
          ],
          "name": "stdout"
        }
      ]
    },
    {
      "cell_type": "code",
      "metadata": {
        "id": "Pmt2xbxSgivG"
      },
      "source": [
        "def indexedSequentialSearch(items,value,group_division):\n",
        "  elements = [0] * 20\n",
        "  indices = [0] * 20\n",
        "  i,j,index,end = 0,0,0,0\n",
        "  flag = 0\n",
        "\n",
        "  for i in range(0,len(items),group_division):\n",
        "    elements[index]= items[i]\n",
        "    indices[index] = i \n",
        "    index += 1\n",
        "  print('Elementos:',elements)\n",
        "  print('Índices:',indices)\n",
        "\n",
        "  if value < elements[0]:\n",
        "    print('No se encuentra el valor')\n",
        "    return exit(0)\n",
        "\n",
        "  else:\n",
        "    for i in range(0, index + 1):\n",
        "      if value <= elements[i]:\n",
        "        start = indices[i-1]\n",
        "        end = indices[i]\n",
        "        flag = 1\n",
        "        break\n",
        "\n",
        "  if flag == 0:\n",
        "    start = indices[i-1]\n",
        "    end = len(items)\n",
        "  print('Inicio:',start)\n",
        "  print('Final:',end)\n",
        "\n",
        "  for i in range(start,end+1):\n",
        "    if value == items[i]:\n",
        "      j = 1\n",
        "      break\n",
        "\n",
        "  if j == 1:\n",
        "    print('Mi valor fue encontrado en la posiición', i)\n",
        "  \n",
        "  else:\n",
        "    print('No se encuentra')"
      ],
      "execution_count": 18,
      "outputs": []
    },
    {
      "cell_type": "code",
      "metadata": {
        "colab": {
          "base_uri": "https://localhost:8080/"
        },
        "id": "1I_iXah_g6Zr",
        "outputId": "53fdc407-8b83-4190-a7b5-4d4e209025f6"
      },
      "source": [
        "items = [12,15,17,21,28,36,57,81,99]\n",
        "indexedSequentialSearch(items,15,3)"
      ],
      "execution_count": 19,
      "outputs": [
        {
          "output_type": "stream",
          "text": [
            "Elementos: [12, 21, 57, 0, 0, 0, 0, 0, 0, 0, 0, 0, 0, 0, 0, 0, 0, 0, 0, 0]\n",
            "Índices: [0, 3, 6, 0, 0, 0, 0, 0, 0, 0, 0, 0, 0, 0, 0, 0, 0, 0, 0, 0]\n",
            "Inicio: 0\n",
            "Final: 3\n",
            "Mi valor fue encontrado en la posiición 1\n"
          ],
          "name": "stdout"
        }
      ]
    },
    {
      "cell_type": "code",
      "metadata": {
        "id": "G8GPCQvkg-YX"
      },
      "source": [
        ""
      ],
      "execution_count": null,
      "outputs": []
    }
  ]
}