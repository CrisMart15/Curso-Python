{
  "nbformat": 4,
  "nbformat_minor": 0,
  "metadata": {
    "colab": {
      "name": "Funciones-any-y-all.ipynb",
      "provenance": []
    },
    "kernelspec": {
      "name": "python3",
      "display_name": "Python 3"
    },
    "language_info": {
      "name": "python"
    }
  },
  "cells": [
    {
      "cell_type": "markdown",
      "metadata": {
        "id": "ROB0wUfDMrO8"
      },
      "source": [
        "#**FUNCIONES ANY & ALL**"
      ]
    },
    {
      "cell_type": "markdown",
      "metadata": {
        "id": "5GIMd4uGMyPr"
      },
      "source": [
        "Se aplican sobre un iterable (una estructura que podamos recorrer de forma iterativa, como una lista o un conjunto) y devuelven True si todos los elementos son verdaderos (en el caso de la función all) o si algún elemento es True (en el caso de la función any), devolviéndose False en cualquier otra circunstancia."
      ]
    },
    {
      "cell_type": "code",
      "metadata": {
        "colab": {
          "base_uri": "https://localhost:8080/"
        },
        "id": "lndslmuAMlNB",
        "outputId": "4abed029-dd84-4cad-d10d-c3439fddb411"
      },
      "source": [
        "lista_valores = [0,0,0]\n",
        "any(lista_valores)"
      ],
      "execution_count": 1,
      "outputs": [
        {
          "output_type": "execute_result",
          "data": {
            "text/plain": [
              "False"
            ]
          },
          "metadata": {
            "tags": []
          },
          "execution_count": 1
        }
      ]
    },
    {
      "cell_type": "code",
      "metadata": {
        "colab": {
          "base_uri": "https://localhost:8080/"
        },
        "id": "7pGx5OWYNYg2",
        "outputId": "eb1c24f9-be88-41c9-a085-38cc66e4f45c"
      },
      "source": [
        "lista_valores_1 = [0,1,0]\n",
        "any(lista_valores_1)"
      ],
      "execution_count": 2,
      "outputs": [
        {
          "output_type": "execute_result",
          "data": {
            "text/plain": [
              "True"
            ]
          },
          "metadata": {
            "tags": []
          },
          "execution_count": 2
        }
      ]
    },
    {
      "cell_type": "code",
      "metadata": {
        "colab": {
          "base_uri": "https://localhost:8080/"
        },
        "id": "Lnw4EGOONkn8",
        "outputId": "fd031412-444e-4c2a-e65a-9ddda5255b43"
      },
      "source": [
        "all([1,2,3,4,5])"
      ],
      "execution_count": 3,
      "outputs": [
        {
          "output_type": "execute_result",
          "data": {
            "text/plain": [
              "True"
            ]
          },
          "metadata": {
            "tags": []
          },
          "execution_count": 3
        }
      ]
    },
    {
      "cell_type": "code",
      "metadata": {
        "colab": {
          "base_uri": "https://localhost:8080/"
        },
        "id": "l9IPSmJSNoiM",
        "outputId": "adeca21e-18af-47b2-8d89-dc31df2c8084"
      },
      "source": [
        "all([1,2,0,3,4,5])\n",
        "#El 0 se considera un valor falso"
      ],
      "execution_count": 5,
      "outputs": [
        {
          "output_type": "execute_result",
          "data": {
            "text/plain": [
              "False"
            ]
          },
          "metadata": {
            "tags": []
          },
          "execution_count": 5
        }
      ]
    },
    {
      "cell_type": "code",
      "metadata": {
        "colab": {
          "base_uri": "https://localhost:8080/"
        },
        "id": "SKXqmNBBNxG0",
        "outputId": "84b086d6-dec3-4e72-bede-1abf8900824b"
      },
      "source": [
        "lista_strings = ['A','B','C','']\n",
        "all(lista_strings)\n",
        "#Da falso porque no hay texto entre las últimas comillas "
      ],
      "execution_count": 7,
      "outputs": [
        {
          "output_type": "execute_result",
          "data": {
            "text/plain": [
              "False"
            ]
          },
          "metadata": {
            "tags": []
          },
          "execution_count": 7
        }
      ]
    },
    {
      "cell_type": "code",
      "metadata": {
        "colab": {
          "base_uri": "https://localhost:8080/"
        },
        "id": "fgUvj5I-OBlt",
        "outputId": "4255791f-7dd5-45b3-87cb-612107322a1e"
      },
      "source": [
        "lista_strings_1 = ['A','B','C','D']\n",
        "all(lista_strings_1)"
      ],
      "execution_count": 8,
      "outputs": [
        {
          "output_type": "execute_result",
          "data": {
            "text/plain": [
              "True"
            ]
          },
          "metadata": {
            "tags": []
          },
          "execution_count": 8
        }
      ]
    },
    {
      "cell_type": "code",
      "metadata": {
        "colab": {
          "base_uri": "https://localhost:8080/"
        },
        "id": "h52MQ_5zOkcJ",
        "outputId": "b34bb100-b461-4701-9675-2cc3410e6264"
      },
      "source": [
        "lista_strings_1 = ['A','B','C','']\n",
        "any(lista_strings_1)\n",
        "#Any = cualquiera son como tablas de verdad"
      ],
      "execution_count": 12,
      "outputs": [
        {
          "output_type": "execute_result",
          "data": {
            "text/plain": [
              "True"
            ]
          },
          "metadata": {
            "tags": []
          },
          "execution_count": 12
        }
      ]
    },
    {
      "cell_type": "code",
      "metadata": {
        "colab": {
          "base_uri": "https://localhost:8080/"
        },
        "id": "TNb2zyCXOQjd",
        "outputId": "6db4a585-5ad0-4b76-b304-e2ef08e8cb21"
      },
      "source": [
        "#Any\n",
        "print(2 == 2 or 3==3)"
      ],
      "execution_count": 9,
      "outputs": [
        {
          "output_type": "stream",
          "text": [
            "True\n"
          ],
          "name": "stdout"
        }
      ]
    },
    {
      "cell_type": "code",
      "metadata": {
        "colab": {
          "base_uri": "https://localhost:8080/"
        },
        "id": "n78acIg_OZJP",
        "outputId": "5d4fad21-d0bb-4c4b-8024-ee34bf7dca73"
      },
      "source": [
        "#Any\n",
        "print(2 == 2 or 3==1)"
      ],
      "execution_count": 15,
      "outputs": [
        {
          "output_type": "stream",
          "text": [
            "True\n"
          ],
          "name": "stdout"
        }
      ]
    },
    {
      "cell_type": "code",
      "metadata": {
        "colab": {
          "base_uri": "https://localhost:8080/"
        },
        "id": "6bJSENnYOqx3",
        "outputId": "e9a8e249-c611-412f-f67e-160e98be638e"
      },
      "source": [
        "#All\n",
        "print(2==2 and 3==3)"
      ],
      "execution_count": 13,
      "outputs": [
        {
          "output_type": "stream",
          "text": [
            "True\n"
          ],
          "name": "stdout"
        }
      ]
    },
    {
      "cell_type": "code",
      "metadata": {
        "colab": {
          "base_uri": "https://localhost:8080/"
        },
        "id": "LPV6CqawOdr-",
        "outputId": "c0ad0e14-cbb3-45b1-d1a9-d9db5bd42bea"
      },
      "source": [
        "#All\n",
        "print(2==1 and 3==3)"
      ],
      "execution_count": 14,
      "outputs": [
        {
          "output_type": "stream",
          "text": [
            "False\n"
          ],
          "name": "stdout"
        }
      ]
    },
    {
      "cell_type": "code",
      "metadata": {
        "colab": {
          "base_uri": "https://localhost:8080/"
        },
        "id": "hBYpKiKqPGRO",
        "outputId": "abb14b6d-07aa-48ae-d90e-baa6c4b6d574"
      },
      "source": [
        "lista = [True, False, True, True]\n",
        "any(lista)"
      ],
      "execution_count": 16,
      "outputs": [
        {
          "output_type": "execute_result",
          "data": {
            "text/plain": [
              "True"
            ]
          },
          "metadata": {
            "tags": []
          },
          "execution_count": 16
        }
      ]
    },
    {
      "cell_type": "code",
      "metadata": {
        "colab": {
          "base_uri": "https://localhost:8080/"
        },
        "id": "MygwSUuxPnqh",
        "outputId": "ab299d4d-6147-4468-ee17-5dc0dad61179"
      },
      "source": [
        "lista = [False, False]\n",
        "any(lista)"
      ],
      "execution_count": 17,
      "outputs": [
        {
          "output_type": "execute_result",
          "data": {
            "text/plain": [
              "False"
            ]
          },
          "metadata": {
            "tags": []
          },
          "execution_count": 17
        }
      ]
    },
    {
      "cell_type": "code",
      "metadata": {
        "id": "QJvMakKZPsNw"
      },
      "source": [
        "old_list = [2,1,3,8,10,11,13]\n",
        "\n",
        "list_modulp_dos = list(map(lambda x: x%2 == 0, old_list))"
      ],
      "execution_count": 18,
      "outputs": []
    },
    {
      "cell_type": "code",
      "metadata": {
        "colab": {
          "base_uri": "https://localhost:8080/",
          "height": 163
        },
        "id": "eVx-I3IvQbE5",
        "outputId": "89b20a25-379a-4e55-b12f-8f518aa267fb"
      },
      "source": [
        "any(list_modulp_dos)"
      ],
      "execution_count": 20,
      "outputs": [
        {
          "output_type": "error",
          "ename": "NameError",
          "evalue": "ignored",
          "traceback": [
            "\u001b[0;31m---------------------------------------------------------------------------\u001b[0m",
            "\u001b[0;31mNameError\u001b[0m                                 Traceback (most recent call last)",
            "\u001b[0;32m<ipython-input-20-ab42ddad81bf>\u001b[0m in \u001b[0;36m<module>\u001b[0;34m()\u001b[0m\n\u001b[0;32m----> 1\u001b[0;31m \u001b[0many\u001b[0m\u001b[0;34m(\u001b[0m\u001b[0mlist_modulp_dos\u001b[0m\u001b[0;34m)\u001b[0m\u001b[0;34m\u001b[0m\u001b[0;34m\u001b[0m\u001b[0m\n\u001b[0m",
            "\u001b[0;31mNameError\u001b[0m: name 'list_modulp_dos' is not defined"
          ]
        }
      ]
    },
    {
      "cell_type": "code",
      "metadata": {
        "id": "Ul9vN-tuQeUp"
      },
      "source": [
        ""
      ],
      "execution_count": null,
      "outputs": []
    }
  ]
}