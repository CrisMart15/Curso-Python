{
  "nbformat": 4,
  "nbformat_minor": 0,
  "metadata": {
    "colab": {
      "name": "Tecnicas_programacion.ipynb",
      "provenance": []
    },
    "kernelspec": {
      "name": "python3",
      "display_name": "Python 3"
    },
    "language_info": {
      "name": "python"
    }
  },
  "cells": [
    {
      "cell_type": "markdown",
      "metadata": {
        "id": "heYVYKkMzAaZ"
      },
      "source": [
        "#**TÉCNICAS DE PROGRAMACIÓN**"
      ]
    },
    {
      "cell_type": "markdown",
      "metadata": {
        "id": "RhBgnNA5zGGf"
      },
      "source": [
        "*Expresiones Lamba o Anónimas*\n",
        "Son una manera de declarar funciones pequeñas y anónimas, no necesitan definirse (ej. def)\n",
        "Su sintaxis corresponde a: \n",
        "**lambda_argumentos = expresión**"
      ]
    },
    {
      "cell_type": "code",
      "metadata": {
        "id": "tPKecBUQzEea"
      },
      "source": [
        "def modulo2(x):\n",
        "  if x % 2 != 0:\n",
        "    return True\n",
        "  else:\n",
        "    False"
      ],
      "execution_count": 2,
      "outputs": []
    },
    {
      "cell_type": "code",
      "metadata": {
        "colab": {
          "base_uri": "https://localhost:8080/"
        },
        "id": "_61CSWlk0HHV",
        "outputId": "6356cd06-be90-490d-f44f-5c88fa08a594"
      },
      "source": [
        "modulo2(5)"
      ],
      "execution_count": 3,
      "outputs": [
        {
          "output_type": "execute_result",
          "data": {
            "text/plain": [
              "True"
            ]
          },
          "metadata": {
            "tags": []
          },
          "execution_count": 3
        }
      ]
    },
    {
      "cell_type": "code",
      "metadata": {
        "id": "J5Dv98kr0P-c"
      },
      "source": [
        "modulo_par = lambda numero: numero % 2 != 0"
      ],
      "execution_count": 4,
      "outputs": []
    },
    {
      "cell_type": "code",
      "metadata": {
        "colab": {
          "base_uri": "https://localhost:8080/"
        },
        "id": "bjO5BnDb0hkV",
        "outputId": "6a86c7f5-4ab9-44bc-a5b6-53acaf99724d"
      },
      "source": [
        "modulo_par (2)"
      ],
      "execution_count": 5,
      "outputs": [
        {
          "output_type": "execute_result",
          "data": {
            "text/plain": [
              "False"
            ]
          },
          "metadata": {
            "tags": []
          },
          "execution_count": 5
        }
      ]
    },
    {
      "cell_type": "code",
      "metadata": {
        "colab": {
          "base_uri": "https://localhost:8080/"
        },
        "id": "40sJSVUM0jxM",
        "outputId": "f8c705fe-c82c-48b4-88d7-d840d88232e1"
      },
      "source": [
        "modulo_par(3)"
      ],
      "execution_count": 6,
      "outputs": [
        {
          "output_type": "execute_result",
          "data": {
            "text/plain": [
              "True"
            ]
          },
          "metadata": {
            "tags": []
          },
          "execution_count": 6
        }
      ]
    },
    {
      "cell_type": "code",
      "metadata": {
        "id": "uuJM85cx0lkF"
      },
      "source": [
        "funcion_cuadrada = lambda x: True if x**2 > 100 else False #Expresiones ternarias "
      ],
      "execution_count": 7,
      "outputs": []
    },
    {
      "cell_type": "code",
      "metadata": {
        "colab": {
          "base_uri": "https://localhost:8080/"
        },
        "id": "YydXivSr1VnG",
        "outputId": "5bc30ea7-a95b-460d-c16d-8184d780ebdd"
      },
      "source": [
        "funcion_cuadrada(11)"
      ],
      "execution_count": 8,
      "outputs": [
        {
          "output_type": "execute_result",
          "data": {
            "text/plain": [
              "True"
            ]
          },
          "metadata": {
            "tags": []
          },
          "execution_count": 8
        }
      ]
    },
    {
      "cell_type": "code",
      "metadata": {
        "id": "XSESSwBV1-kI"
      },
      "source": [
        "lista_compleja = [1,2,3,4,5,6,7,8]\n",
        "\n",
        "lista_anidada = filter(modulo_par, lista_compleja)"
      ],
      "execution_count": 9,
      "outputs": []
    },
    {
      "cell_type": "code",
      "metadata": {
        "colab": {
          "base_uri": "https://localhost:8080/"
        },
        "id": "TElW1ayq1e-Y",
        "outputId": "e0392af5-b317-474c-f522-e903e2a2c071"
      },
      "source": [
        "list(lista_anidada)"
      ],
      "execution_count": 10,
      "outputs": [
        {
          "output_type": "execute_result",
          "data": {
            "text/plain": [
              "[1, 3, 5, 7]"
            ]
          },
          "metadata": {
            "tags": []
          },
          "execution_count": 10
        }
      ]
    },
    {
      "cell_type": "code",
      "metadata": {
        "id": "jaQ6NjsD2J3X"
      },
      "source": [
        "lista_compleja_2 = [1,2,3,4,5,[1,2,3,4]]\n",
        "\n",
        "lista_anidada_extraccion = filter(lambda x: x if type(x)== list else False, lista_compleja_2)"
      ],
      "execution_count": 12,
      "outputs": []
    },
    {
      "cell_type": "code",
      "metadata": {
        "colab": {
          "base_uri": "https://localhost:8080/"
        },
        "id": "8bw8WScH2i2o",
        "outputId": "adaa00f1-8206-4f32-e006-b2d6db8f3f92"
      },
      "source": [
        "list(lista_anidada_extraccion)"
      ],
      "execution_count": 13,
      "outputs": [
        {
          "output_type": "execute_result",
          "data": {
            "text/plain": [
              "[[1, 2, 3, 4]]"
            ]
          },
          "metadata": {
            "tags": []
          },
          "execution_count": 13
        }
      ]
    },
    {
      "cell_type": "code",
      "metadata": {
        "id": "k9l31PDo2qX4"
      },
      "source": [
        "a = [(1,2), (3,4), (5,6)]\n",
        "\n",
        "b = map(lambda x: x[0]+x[1],a)"
      ],
      "execution_count": 14,
      "outputs": []
    },
    {
      "cell_type": "code",
      "metadata": {
        "colab": {
          "base_uri": "https://localhost:8080/"
        },
        "id": "BzA5hLFv28Y5",
        "outputId": "3298ed8c-98d5-4d7a-9da8-2ca12722d356"
      },
      "source": [
        "list(b)"
      ],
      "execution_count": 15,
      "outputs": [
        {
          "output_type": "execute_result",
          "data": {
            "text/plain": [
              "[3, 7, 11]"
            ]
          },
          "metadata": {
            "tags": []
          },
          "execution_count": 15
        }
      ]
    },
    {
      "cell_type": "code",
      "metadata": {
        "id": "AdOeRlV629iI"
      },
      "source": [
        "frutas = ['manzana','naranja','platano','pera']\n",
        "\n",
        "map_object = map(lambda x: x if x[0] == 'p' else None, frutas)"
      ],
      "execution_count": 16,
      "outputs": []
    },
    {
      "cell_type": "code",
      "metadata": {
        "colab": {
          "base_uri": "https://localhost:8080/"
        },
        "id": "dEBTtech3UbA",
        "outputId": "b267eca2-8030-4fc7-eb85-82839c79b0b3"
      },
      "source": [
        "list(map_object)"
      ],
      "execution_count": 17,
      "outputs": [
        {
          "output_type": "execute_result",
          "data": {
            "text/plain": [
              "[None, None, 'platano', 'pera']"
            ]
          },
          "metadata": {
            "tags": []
          },
          "execution_count": 17
        }
      ]
    },
    {
      "cell_type": "code",
      "metadata": {
        "id": "k0_q03Gs3WeI"
      },
      "source": [
        "from functools import reduce"
      ],
      "execution_count": 18,
      "outputs": []
    },
    {
      "cell_type": "code",
      "metadata": {
        "colab": {
          "base_uri": "https://localhost:8080/"
        },
        "id": "X6gp_jKG3bsR",
        "outputId": "d9d7a8a2-d360-45e6-97a8-d4c5304070c9"
      },
      "source": [
        "lista = [2,4,3,5,1,7,8]\n",
        "reduce(lambda a,b: a if a < b else b, lista)"
      ],
      "execution_count": 19,
      "outputs": [
        {
          "output_type": "execute_result",
          "data": {
            "text/plain": [
              "1"
            ]
          },
          "metadata": {
            "tags": []
          },
          "execution_count": 19
        }
      ]
    },
    {
      "cell_type": "code",
      "metadata": {
        "id": "K7muhHDM3k2w"
      },
      "source": [
        ""
      ],
      "execution_count": null,
      "outputs": []
    }
  ]
}