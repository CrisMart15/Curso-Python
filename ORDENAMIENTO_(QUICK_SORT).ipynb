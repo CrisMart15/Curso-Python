{
  "nbformat": 4,
  "nbformat_minor": 0,
  "metadata": {
    "colab": {
      "name": "ORDENAMIENTO (QUICK SORT).ipynb",
      "provenance": []
    },
    "kernelspec": {
      "name": "python3",
      "display_name": "Python 3"
    },
    "language_info": {
      "name": "python"
    }
  },
  "cells": [
    {
      "cell_type": "markdown",
      "metadata": {
        "id": "n_HWm7SvLuXe"
      },
      "source": [
        "#**TEMA 2: ORDENAMIENTO (QUICK SORT)**"
      ]
    },
    {
      "cell_type": "markdown",
      "metadata": {
        "id": "_ABHH_NSL40c"
      },
      "source": [
        "*RECURSIVIDAD:* Funciones que en su algoritmo, hacen referencia a ella misma.\n",
        "Las llamadas recursivas suelen ser muy útiles en casos muy puntuales, pero debido a su gran factibilidad de caer en iteraciones infinitas, deben extremarse las medidas preventivas adecuadas y, sólo utilizarse cuando sea estrictamente necesario y no exista una forma alternativa viable, que resuelva el problema evitando la recursividad."
      ]
    },
    {
      "cell_type": "markdown",
      "metadata": {
        "id": "fZwXfh7mMJPs"
      },
      "source": [
        "*Características clave de la recursividad*\n",
        "\n",
        "\n",
        "*   Por un lado tenemos la sección en la que la dunción se llama a si misma.\n",
        "*   Por otro lado, tiene que existir siempre una condición en la que la función retorna sin volver a llamarse. Es muy importante porque de lo contrario, la función se llamaría de manera indefinida.\n",
        "\n"
      ]
    },
    {
      "cell_type": "code",
      "metadata": {
        "id": "dJpAlX7RLtCx"
      },
      "source": [
        "def factorial(n):\n",
        "  if n == 0 or n == 1:\n",
        "    return 1\n",
        "  else: \n",
        "    return n * factorial(n-1)"
      ],
      "execution_count": null,
      "outputs": []
    },
    {
      "cell_type": "code",
      "metadata": {
        "colab": {
          "base_uri": "https://localhost:8080/"
        },
        "id": "_seG8w8jNmyh",
        "outputId": "57aa21a8-4ede-4b30-f906-ea6d0a6e1e53"
      },
      "source": [
        "factorial(5)"
      ],
      "execution_count": null,
      "outputs": [
        {
          "output_type": "execute_result",
          "data": {
            "text/plain": [
              "120"
            ]
          },
          "metadata": {
            "tags": []
          },
          "execution_count": 7
        }
      ]
    },
    {
      "cell_type": "code",
      "metadata": {
        "colab": {
          "base_uri": "https://localhost:8080/"
        },
        "id": "bJATXo8XN8m-",
        "outputId": "7e2e5d3b-853d-4304-8b39-db6b9c49c920"
      },
      "source": [
        "factorial(1)"
      ],
      "execution_count": null,
      "outputs": [
        {
          "output_type": "execute_result",
          "data": {
            "text/plain": [
              "1"
            ]
          },
          "metadata": {
            "tags": []
          },
          "execution_count": 8
        }
      ]
    },
    {
      "cell_type": "code",
      "metadata": {
        "colab": {
          "base_uri": "https://localhost:8080/"
        },
        "id": "ZNoxLqQNN-IP",
        "outputId": "2f679b38-5865-47b6-df70-47a4072a3377"
      },
      "source": [
        "factorial(0)"
      ],
      "execution_count": null,
      "outputs": [
        {
          "output_type": "execute_result",
          "data": {
            "text/plain": [
              "1"
            ]
          },
          "metadata": {
            "tags": []
          },
          "execution_count": 9
        }
      ]
    },
    {
      "cell_type": "code",
      "metadata": {
        "colab": {
          "base_uri": "https://localhost:8080/"
        },
        "id": "PP-wCR_gN_be",
        "outputId": "46ada1bd-decc-405b-dcb7-11dc84a366b8"
      },
      "source": [
        "factorial(3)"
      ],
      "execution_count": null,
      "outputs": [
        {
          "output_type": "execute_result",
          "data": {
            "text/plain": [
              "6"
            ]
          },
          "metadata": {
            "tags": []
          },
          "execution_count": 10
        }
      ]
    },
    {
      "cell_type": "markdown",
      "metadata": {
        "id": "9aC7G95sOy3q"
      },
      "source": [
        "#**Algoritmo Quicksort**"
      ]
    },
    {
      "cell_type": "markdown",
      "metadata": {
        "id": "47vyO9R6O3up"
      },
      "source": [
        "\n",
        "\n",
        "*   Es uno de los algoritmos que más revolucionaron las ciencias de la computación.\n",
        "*   Sir Charles Antony Richard Hoare, nativo de Sri Lanka y ganador del premio Turing en 1980, desarrolló el algoritmo de ordenación QuickSort casi por casualidad mientras ideaba la forma de facilitar la búsqueda de palabras en el diccionario.\n",
        "* El algoritmo Quicksort se basa en la técnica de \"divide y vencerás\" por la que en cada recursión, el problema se divide en subproblemas de menor tamaño y se resuelven por separado.\n",
        "\n"
      ]
    },
    {
      "cell_type": "markdown",
      "metadata": {
        "id": "0nYgozoIPCHL"
      },
      "source": [
        "**Características de Quick sort**\n",
        "*   Es uno de los algotirmos más rápidos que se conoce.\n",
        "*   En un caso promedio tiene un término dominante en Notación Big O de O(n*log(n))) y en el peor de los caos este tiene un término dominante O(n^2)\n",
        "*   El hecho que sea más rápido se debe a que usa el método de partición (divide y vencerás)\n",
        "*NOTA: Trabaja con el pibote (cualquier número que esta en la lista que eliges.\n",
        "\n",
        "\n",
        "\n"
      ]
    },
    {
      "cell_type": "code",
      "metadata": {
        "id": "uqtwNjFKFjod",
        "colab": {
          "base_uri": "https://localhost:8080/"
        },
        "outputId": "43ffed58-c9d9-4476-87f4-55ecf9ddc85c"
      },
      "source": [
        "def quickSort(items, low, high):\n",
        "  if low < high:\n",
        "    p_index = particion(items, low, high)\n",
        "    quickSort(items, low, p_index - 1) # Corre por la izquierda (menor pivote)\n",
        "    quickSort(items, p_index + 1, high) #Corre por la derecha (mayor pivote)\n",
        "\n",
        "def particion(items, low, high):\n",
        "  pivote = items[high]\n",
        "  i = low\n",
        "  for j in range(low,high):\n",
        "    if items[j] < pivote:\n",
        "      items[i], items[j] = items[j],items[i]\n",
        "      i += 1\n",
        "  pivot_index = i\n",
        "  items[pivot_index], items[high] = items[high], items[pivot_index] \n",
        "  return pivot_index\n",
        "\n",
        "def quickSort_prueba():\n",
        "  lista_test = [9,5,3,6,1,0,7,8,4,2]\n",
        "  high = len(lista_test) - 1\n",
        "  low = 0\n",
        "  print(lista_test)\n",
        "  quickSort(lista_test,low,high)\n",
        "  print('Lista ordenada:',lista_test)\n",
        "\n",
        "quickSort_prueba()"
      ],
      "execution_count": 17,
      "outputs": [
        {
          "output_type": "stream",
          "text": [
            "[9, 5, 3, 6, 1, 0, 7, 8, 4, 2]\n",
            "Lista ordenada: [0, 1, 2, 3, 4, 5, 6, 7, 8, 9]\n"
          ],
          "name": "stdout"
        }
      ]
    },
    {
      "cell_type": "code",
      "metadata": {
        "id": "r8xLutZYwRhW"
      },
      "source": [
        "def particion(items, low, high):\n",
        "  pivote = items[high]\n",
        "  i = low\n",
        "  for j in range(low,high):\n",
        "    print('Índice j:',j)\n",
        "    if items[j] < pivote:\n",
        "      items[i], items[j] = items[j],items[i]\n",
        "      print('Valores cambiados:',items[i], items[j])\n",
        "      i += 1\n",
        "  pivot_index = i\n",
        "  print('Pivot index:',pivot_index)\n",
        "  items[pivot_index], items[high] = items[high], items[pivot_index] \n",
        "  print(items)\n",
        "  return pivot_index"
      ],
      "execution_count": 22,
      "outputs": []
    },
    {
      "cell_type": "code",
      "metadata": {
        "colab": {
          "base_uri": "https://localhost:8080/"
        },
        "id": "846loWq7wfKo",
        "outputId": "e4a91842-4477-473c-911d-f8587fbf7d97"
      },
      "source": [
        "lista_test = [9,5,3,6,1,0,7,8,4,2]\n",
        "high = len(lista_test) - 1\n",
        "low = 0\n",
        "\n",
        "particion(lista_test,low,high)"
      ],
      "execution_count": 23,
      "outputs": [
        {
          "output_type": "stream",
          "text": [
            "Índice j: 0\n",
            "Índice j: 1\n",
            "Índice j: 2\n",
            "Índice j: 3\n",
            "Índice j: 4\n",
            "Valores cambiados: 1 9\n",
            "Índice j: 5\n",
            "Valores cambiados: 0 5\n",
            "Índice j: 6\n",
            "Índice j: 7\n",
            "Índice j: 8\n",
            "Pivot index: 2\n",
            "[1, 0, 2, 6, 9, 5, 7, 8, 4, 3]\n"
          ],
          "name": "stdout"
        },
        {
          "output_type": "execute_result",
          "data": {
            "text/plain": [
              "2"
            ]
          },
          "metadata": {
            "tags": []
          },
          "execution_count": 23
        }
      ]
    },
    {
      "cell_type": "code",
      "metadata": {
        "id": "VTTZkbvnwr3v"
      },
      "source": [
        ""
      ],
      "execution_count": null,
      "outputs": []
    }
  ]
}