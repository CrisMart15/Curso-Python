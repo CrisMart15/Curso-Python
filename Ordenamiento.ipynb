{
  "nbformat": 4,
  "nbformat_minor": 0,
  "metadata": {
    "colab": {
      "name": "Ordenamiento.ipynb",
      "provenance": []
    },
    "kernelspec": {
      "name": "python3",
      "display_name": "Python 3"
    },
    "language_info": {
      "name": "python"
    }
  },
  "cells": [
    {
      "cell_type": "markdown",
      "metadata": {
        "id": "lWlX-lbHYcsK"
      },
      "source": [
        "#**TEMA 2: Ordenamiento (Buble Sort)**"
      ]
    },
    {
      "cell_type": "markdown",
      "metadata": {
        "id": "lXCD1IR4YgNR"
      },
      "source": [
        "Es el más ineficiente para realizar un ordenamiento."
      ]
    },
    {
      "cell_type": "markdown",
      "metadata": {
        "id": "_r1x35B1YkbY"
      },
      "source": [
        "Se trata de un algoritmo en donde la entrada de datos es una lista desordenada. Lo que buscamos con este algoritmo es ordenar la lista de una forma que sea la más óptima posible."
      ]
    },
    {
      "cell_type": "code",
      "metadata": {
        "id": "adV7aRRNcDGw"
      },
      "source": [
        "lista = [5,1,6,2,4,3]"
      ],
      "execution_count": null,
      "outputs": []
    },
    {
      "cell_type": "code",
      "metadata": {
        "colab": {
          "base_uri": "https://localhost:8080/"
        },
        "id": "-BPikWO3cn3D",
        "outputId": "a02eaa1e-c4f7-4179-9d4b-53a2772f5bc4"
      },
      "source": [
        "for steps in range(len(lista)-1,0,-1):\n",
        "  print('steps:', steps)\n",
        "  for i in range(steps):\n",
        "    print('Índice:',i)\n",
        "    print('Me estas comparando con:',i+1)\n",
        "    if lista[i] > lista[i+1]:\n",
        "      temp = lista[i]\n",
        "      lista[i] = lista[i+1]\n",
        "      lista[i+1] = temp #temp = variable temporal\n",
        "      print(lista)"
      ],
      "execution_count": null,
      "outputs": [
        {
          "output_type": "stream",
          "text": [
            "steps: 5\n",
            "Índice: 0\n",
            "Me estas comparando con: 1\n",
            "Índice: 1\n",
            "Me estas comparando con: 2\n",
            "Índice: 2\n",
            "Me estas comparando con: 3\n",
            "Índice: 3\n",
            "Me estas comparando con: 4\n",
            "Índice: 4\n",
            "Me estas comparando con: 5\n",
            "steps: 4\n",
            "Índice: 0\n",
            "Me estas comparando con: 1\n",
            "Índice: 1\n",
            "Me estas comparando con: 2\n",
            "Índice: 2\n",
            "Me estas comparando con: 3\n",
            "Índice: 3\n",
            "Me estas comparando con: 4\n",
            "steps: 3\n",
            "Índice: 0\n",
            "Me estas comparando con: 1\n",
            "Índice: 1\n",
            "Me estas comparando con: 2\n",
            "Índice: 2\n",
            "Me estas comparando con: 3\n",
            "steps: 2\n",
            "Índice: 0\n",
            "Me estas comparando con: 1\n",
            "Índice: 1\n",
            "Me estas comparando con: 2\n",
            "steps: 1\n",
            "Índice: 0\n",
            "Me estas comparando con: 1\n"
          ],
          "name": "stdout"
        }
      ]
    },
    {
      "cell_type": "code",
      "metadata": {
        "colab": {
          "base_uri": "https://localhost:8080/"
        },
        "id": "yuM26JOaeZM8",
        "outputId": "9c97ba5a-7b14-4bf0-8922-aa8e532627c6"
      },
      "source": [
        "print(lista)"
      ],
      "execution_count": null,
      "outputs": [
        {
          "output_type": "stream",
          "text": [
            "[1, 2, 3, 4, 5, 6]\n"
          ],
          "name": "stdout"
        }
      ]
    },
    {
      "cell_type": "markdown",
      "metadata": {
        "id": "KxTUsYL_ezgv"
      },
      "source": [
        "*Punto de quiebre:* Donde el código falla"
      ]
    },
    {
      "cell_type": "markdown",
      "metadata": {
        "id": "ZE-KVPcPfAuz"
      },
      "source": [
        ""
      ]
    },
    {
      "cell_type": "code",
      "metadata": {
        "id": "U7o38nTCfD4r"
      },
      "source": [
        "def BubleSort(lista):\n",
        "  for steps in range(len(lista)-1,0,-1):\n",
        "    for i in range(steps):\n",
        "      if lista[i] > lista[i+1]:\n",
        "        temp = lista[i]\n",
        "        lista[i] = lista[i+1]\n",
        "        lista[i+1] = temp #temp = variable temporal\n",
        "    return lista"
      ],
      "execution_count": null,
      "outputs": []
    },
    {
      "cell_type": "code",
      "metadata": {
        "colab": {
          "base_uri": "https://localhost:8080/"
        },
        "id": "4rEpqpIjfa4H",
        "outputId": "04a2810f-4eb7-44f2-c585-a8ef514bba27"
      },
      "source": [
        "BubleSort([6,3,2,1,5])"
      ],
      "execution_count": null,
      "outputs": [
        {
          "output_type": "execute_result",
          "data": {
            "text/plain": [
              "[3, 2, 1, 5, 6]"
            ]
          },
          "metadata": {
            "tags": []
          },
          "execution_count": 19
        }
      ]
    },
    {
      "cell_type": "code",
      "metadata": {
        "id": "05LNUOj1h7Mu"
      },
      "source": [
        "def unsortedList(size_of_array):\n",
        "  import random\n",
        "\n",
        "  random_list = []\n",
        "  for i in range(0,size_of_array):\n",
        "    n = random.randint(1,100)\n",
        "    random_list.append(n)\n",
        "  return random_list"
      ],
      "execution_count": null,
      "outputs": []
    },
    {
      "cell_type": "code",
      "metadata": {
        "colab": {
          "base_uri": "https://localhost:8080/"
        },
        "id": "LotjycwWildJ",
        "outputId": "e1b2d026-9b1e-4d50-ab60-658ba81c471f"
      },
      "source": [
        "BubleSort(unsortedList(100))"
      ],
      "execution_count": null,
      "outputs": [
        {
          "output_type": "execute_result",
          "data": {
            "text/plain": [
              "[66,\n",
              " 28,\n",
              " 6,\n",
              " 25,\n",
              " 69,\n",
              " 40,\n",
              " 24,\n",
              " 19,\n",
              " 14,\n",
              " 68,\n",
              " 97,\n",
              " 41,\n",
              " 90,\n",
              " 34,\n",
              " 53,\n",
              " 58,\n",
              " 1,\n",
              " 88,\n",
              " 5,\n",
              " 54,\n",
              " 25,\n",
              " 79,\n",
              " 21,\n",
              " 35,\n",
              " 33,\n",
              " 70,\n",
              " 74,\n",
              " 39,\n",
              " 56,\n",
              " 49,\n",
              " 36,\n",
              " 22,\n",
              " 31,\n",
              " 95,\n",
              " 75,\n",
              " 41,\n",
              " 80,\n",
              " 24,\n",
              " 4,\n",
              " 95,\n",
              " 71,\n",
              " 51,\n",
              " 88,\n",
              " 68,\n",
              " 91,\n",
              " 35,\n",
              " 46,\n",
              " 25,\n",
              " 16,\n",
              " 78,\n",
              " 32,\n",
              " 32,\n",
              " 86,\n",
              " 19,\n",
              " 23,\n",
              " 3,\n",
              " 45,\n",
              " 5,\n",
              " 91,\n",
              " 14,\n",
              " 70,\n",
              " 61,\n",
              " 35,\n",
              " 68,\n",
              " 16,\n",
              " 57,\n",
              " 17,\n",
              " 50,\n",
              " 28,\n",
              " 82,\n",
              " 86,\n",
              " 82,\n",
              " 46,\n",
              " 74,\n",
              " 19,\n",
              " 93,\n",
              " 37,\n",
              " 72,\n",
              " 90,\n",
              " 95,\n",
              " 68,\n",
              " 54,\n",
              " 29,\n",
              " 61,\n",
              " 80,\n",
              " 23,\n",
              " 97,\n",
              " 16,\n",
              " 87,\n",
              " 47,\n",
              " 81,\n",
              " 32,\n",
              " 79,\n",
              " 38,\n",
              " 98,\n",
              " 57,\n",
              " 64,\n",
              " 36,\n",
              " 14,\n",
              " 100]"
            ]
          },
          "metadata": {
            "tags": []
          },
          "execution_count": 49
        }
      ]
    },
    {
      "cell_type": "markdown",
      "metadata": {
        "id": "kHTzosmfkHYd"
      },
      "source": [
        "Instrucciones de paro"
      ]
    },
    {
      "cell_type": "code",
      "metadata": {
        "id": "2y4QWHxoioCp"
      },
      "source": [
        "def BubleSortOptimizada(lista_):\n",
        "  #Este algoritmo su mejor caso, es cuando se le presenta una lista ordenada\n",
        "  #Término dominante es O(n)\n",
        "  #Con un caso promedio, que seriía una linea semi-ordenada, O(n^2)\n",
        "  swapped = True # swapped = intercambio\n",
        "  steps_ = len(lista_)-1\n",
        "  while steps_ > 0 and swapped:\n",
        "    print('Step:', steps_)\n",
        "    swapped = False\n",
        "    for i in range(steps_):\n",
        "      print('Índice:',i)\n",
        "      print('Comparado con:',i+1)\n",
        "      if lista_[i] > lista_[i+1]:\n",
        "        swapped = True\n",
        "        temp = lista_[i]\n",
        "        lista_[i] = lista_[i+1]\n",
        "        lista_[i+1] = temp\n",
        "    steps_ = steps_ - 1\n",
        "    print(lista_)\n",
        "  return lista_ \n",
        "\n"
      ],
      "execution_count": null,
      "outputs": []
    },
    {
      "cell_type": "code",
      "metadata": {
        "colab": {
          "base_uri": "https://localhost:8080/"
        },
        "id": "9r-KkAiomGBX",
        "outputId": "27e2543c-67b8-4eeb-a7fd-87be378ca7df"
      },
      "source": [
        "BubleSortOptimizada([1,2,3,4,5])"
      ],
      "execution_count": null,
      "outputs": [
        {
          "output_type": "stream",
          "text": [
            "Step: 4\n",
            "Índice: 0\n",
            "Comparado con: 1\n",
            "Índice: 1\n",
            "Comparado con: 2\n",
            "Índice: 2\n",
            "Comparado con: 3\n",
            "Índice: 3\n",
            "Comparado con: 4\n",
            "[1, 2, 3, 4, 5]\n"
          ],
          "name": "stdout"
        },
        {
          "output_type": "execute_result",
          "data": {
            "text/plain": [
              "[1, 2, 3, 4, 5]"
            ]
          },
          "metadata": {
            "tags": []
          },
          "execution_count": 50
        }
      ]
    },
    {
      "cell_type": "markdown",
      "metadata": {
        "id": "iy9wVupMroHB"
      },
      "source": [
        "**Conclusiones**\n",
        "1.   Complejidad en los casos promedio y en el peor de los casos: O(n^2)\n",
        "2.   Complejidad en el mejor de los casos: O(n)\n",
        "*   *Casos límite:* Toma orden de complejidad O(n) cuando los elementos ya estan ordenadas.\n",
        "*   *Estabilidad:* Estable\n",
        "\n",
        "\n",
        "\n",
        "\n",
        "\n"
      ]
    }
  ]
}