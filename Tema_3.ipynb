{
  "nbformat": 4,
  "nbformat_minor": 0,
  "metadata": {
    "colab": {
      "name": "Tema-3.ipynb",
      "provenance": []
    },
    "kernelspec": {
      "name": "python3",
      "display_name": "Python 3"
    },
    "language_info": {
      "name": "python"
    }
  },
  "cells": [
    {
      "cell_type": "markdown",
      "metadata": {
        "id": "lc_bsv7YRVnz"
      },
      "source": [
        "#**TEMA 3: BÚSQUEDA (LINEAR SEARCH & BINARY SEARCH)**"
      ]
    },
    {
      "cell_type": "markdown",
      "metadata": {
        "id": "5Ci5XlQiRolZ"
      },
      "source": [
        ""
      ]
    },
    {
      "cell_type": "markdown",
      "metadata": {
        "id": "8RschYBSRrvj"
      },
      "source": [
        "*LINEAR SEARCH O SEQUENTIAL SEARCH*\n",
        "* COMPARA LOS VALORES DE MI LISTA DE VALORES Y NOS DA LA POSICIÓN EN QUE ESTE SE ENCUENTRA\n",
        "*Trabaja sobre listas desordenadas, podemos ordenar la lista y ocupar Binary Search \n",
        "*Su término dominante es de tipo Big O: O(n)"
      ]
    },
    {
      "cell_type": "code",
      "metadata": {
        "id": "GnJWrsy4RSDL"
      },
      "source": [
        "def linearSearch(items, value):\n",
        "  for i in range(0,len(items)):\n",
        "    if items[i] == value:\n",
        "      return i\n",
        "  return -1"
      ],
      "execution_count": 1,
      "outputs": []
    },
    {
      "cell_type": "code",
      "metadata": {
        "colab": {
          "base_uri": "https://localhost:8080/"
        },
        "id": "Ms1oyTD4TEsN",
        "outputId": "45b97fcc-fb85-447a-9ea8-b89310c0a22a"
      },
      "source": [
        "items_1 = [1,2,3,4,5]\n",
        "print(len(items_1))\n",
        "print(len(items_1)-1)"
      ],
      "execution_count": 6,
      "outputs": [
        {
          "output_type": "stream",
          "text": [
            "5\n",
            "4\n"
          ],
          "name": "stdout"
        }
      ]
    },
    {
      "cell_type": "code",
      "metadata": {
        "colab": {
          "base_uri": "https://localhost:8080/"
        },
        "id": "0aRl1RCSTff1",
        "outputId": "593ca9ed-4e81-4501-8a7b-ea70bc4fa3d7"
      },
      "source": [
        "items_2 = [1,2,3,4,5]\n",
        "\n",
        "for i in range(0,len(items_2)-1):\n",
        "  print(items_2[i+1])"
      ],
      "execution_count": 7,
      "outputs": [
        {
          "output_type": "stream",
          "text": [
            "2\n",
            "3\n",
            "4\n",
            "5\n"
          ],
          "name": "stdout"
        }
      ]
    },
    {
      "cell_type": "code",
      "metadata": {
        "colab": {
          "base_uri": "https://localhost:8080/"
        },
        "id": "6CXAftdkUHNo",
        "outputId": "1bb0be60-d5b6-437f-d3d4-2aae59e94f1a"
      },
      "source": [
        "items_ = [2,4,7,6,34,25,4]\n",
        "linearSearch(items_, 34)"
      ],
      "execution_count": 5,
      "outputs": [
        {
          "output_type": "execute_result",
          "data": {
            "text/plain": [
              "4"
            ]
          },
          "metadata": {
            "tags": []
          },
          "execution_count": 5
        }
      ]
    },
    {
      "cell_type": "code",
      "metadata": {
        "id": "pAvESrWpUnv3"
      },
      "source": [
        "items[-1]"
      ],
      "execution_count": null,
      "outputs": []
    },
    {
      "cell_type": "code",
      "metadata": {
        "id": "Vhd5ek1OVdE3"
      },
      "source": [
        "items = [2,4,6,34,25,4,34,23,12,2]"
      ],
      "execution_count": 16,
      "outputs": []
    },
    {
      "cell_type": "code",
      "metadata": {
        "id": "6oKvde6mVcTp"
      },
      "source": [
        "def linearSearchMultiple(items, value):\n",
        "  for i in range(0,len(items)):\n",
        "    if items[i] == value:\n",
        "      print(i)"
      ],
      "execution_count": 17,
      "outputs": []
    },
    {
      "cell_type": "code",
      "metadata": {
        "colab": {
          "base_uri": "https://localhost:8080/"
        },
        "id": "b63KOj5iVmT5",
        "outputId": "63391ba6-a738-4763-a4c7-3af1d55a20e1"
      },
      "source": [
        "linearSearchMultiple(items, 34)"
      ],
      "execution_count": 18,
      "outputs": [
        {
          "output_type": "stream",
          "text": [
            "3\n",
            "6\n"
          ],
          "name": "stdout"
        }
      ]
    },
    {
      "cell_type": "code",
      "metadata": {
        "colab": {
          "base_uri": "https://localhost:8080/"
        },
        "id": "jyd3dAQGVuyB",
        "outputId": "c7e3e2ff-9a96-4468-9ac6-f7ad0926f00a"
      },
      "source": [
        "linearSearchMultiple(items, 4)"
      ],
      "execution_count": 15,
      "outputs": [
        {
          "output_type": "stream",
          "text": [
            "1\n",
            "5\n"
          ],
          "name": "stdout"
        }
      ]
    },
    {
      "cell_type": "code",
      "metadata": {
        "colab": {
          "base_uri": "https://localhost:8080/"
        },
        "id": "-6UVEGwhV0t5",
        "outputId": "902ce34d-bc2f-4692-b7bb-3173d646daa9"
      },
      "source": [
        "linearSearchMultiple(items, 2)"
      ],
      "execution_count": 19,
      "outputs": [
        {
          "output_type": "stream",
          "text": [
            "0\n",
            "9\n"
          ],
          "name": "stdout"
        }
      ]
    },
    {
      "cell_type": "markdown",
      "metadata": {
        "id": "fq17bsEEWuEy"
      },
      "source": [
        "*ALGORITMO BINARY SEARCH*\n",
        "*Busca en un algoritmo ordenado dividiendo la búsqueda en dos partes \n",
        "* Su término dominante en notación Big O es O(log(n)) ya que divide las tareas a la mitad lo cual hace un algoritmo efectivo para la búsqueda."
      ]
    },
    {
      "cell_type": "code",
      "metadata": {
        "id": "ySxWVLAPV5FJ"
      },
      "source": [
        "def binarySearch(items,value):\n",
        "  #Low = valor mínimo\n",
        "  low = 0 \n",
        "  #High = valor máximo\n",
        "  high = len(items) - 1\n",
        "\n",
        "  while low <= high:\n",
        "    print('Valor low:', low)\n",
        "    print('Valor high:',high)\n",
        "    #Mid = middle\n",
        "    mid = (high+low)//2\n",
        "    print('Valor mid:', mid)\n",
        "\n",
        "    if items[mid] < value:\n",
        "      low = mid + 1\n",
        "    elif items[mid] > value:\n",
        "      high = mid - 1\n",
        "    else:\n",
        "      return mid \n",
        "  return -1"
      ],
      "execution_count": 24,
      "outputs": []
    },
    {
      "cell_type": "code",
      "metadata": {
        "colab": {
          "base_uri": "https://localhost:8080/"
        },
        "id": "W1oxEXPUcjc_",
        "outputId": "6f6b6d45-a068-4289-b417-76507a5524aa"
      },
      "source": [
        "lista_ = [2,4,8,12,16,24,36]\n",
        "binarySearch(lista_,24)\n"
      ],
      "execution_count": 25,
      "outputs": [
        {
          "output_type": "stream",
          "text": [
            "Valor low: 0\n",
            "Valor high: 6\n",
            "Valor mid: 3\n",
            "Valor low: 4\n",
            "Valor high: 6\n",
            "Valor mid: 5\n"
          ],
          "name": "stdout"
        },
        {
          "output_type": "execute_result",
          "data": {
            "text/plain": [
              "5"
            ]
          },
          "metadata": {
            "tags": []
          },
          "execution_count": 25
        }
      ]
    },
    {
      "cell_type": "code",
      "metadata": {
        "colab": {
          "base_uri": "https://localhost:8080/"
        },
        "id": "V8-IJQ5ycyx8",
        "outputId": "1a43cae0-7df7-4b88-c594-4a69a726526b"
      },
      "source": [
        "lista_ = [2,4,8,12,16,24,36]\n",
        "binarySearch(lista_,36)"
      ],
      "execution_count": 26,
      "outputs": [
        {
          "output_type": "stream",
          "text": [
            "Valor low: 0\n",
            "Valor high: 6\n",
            "Valor mid: 3\n",
            "Valor low: 4\n",
            "Valor high: 6\n",
            "Valor mid: 5\n",
            "Valor low: 6\n",
            "Valor high: 6\n",
            "Valor mid: 6\n"
          ],
          "name": "stdout"
        },
        {
          "output_type": "execute_result",
          "data": {
            "text/plain": [
              "6"
            ]
          },
          "metadata": {
            "tags": []
          },
          "execution_count": 26
        }
      ]
    },
    {
      "cell_type": "code",
      "metadata": {
        "id": "EQSeCo6Bc37n"
      },
      "source": [
        "def firstElement(items,value):\n",
        "  low = 0 \n",
        "  high = len(items) - 1\n",
        "  res = -1 \n",
        "\n",
        "  while low <= high:\n",
        "    mid = (high+low)//2\n",
        "\n",
        "    if items[mid] < value:\n",
        "      low = mid + 1\n",
        "    elif items[mid] > value:\n",
        "      high = mid - 1\n",
        "    else:\n",
        "      res = mid\n",
        "      high = mid - 1\n",
        "\n",
        "  return res\n",
        "\n",
        "\n",
        "def lastElement(items,value):\n",
        "  low = 0 \n",
        "  high = len(items) - 1\n",
        "  res = -1 \n",
        "\n",
        "  while low <= high:\n",
        "    mid = (high+low)//2\n",
        "\n",
        "    if items[mid] < value:\n",
        "      low = mid + 1\n",
        "    elif items[mid] > value:\n",
        "      high = mid - 1\n",
        "    else:\n",
        "      res = mid\n",
        "      low = mid + 1\n",
        "\n",
        "  return res"
      ],
      "execution_count": 27,
      "outputs": []
    },
    {
      "cell_type": "code",
      "metadata": {
        "colab": {
          "base_uri": "https://localhost:8080/"
        },
        "id": "L1yLz3T0hVo9",
        "outputId": "5f6a2ffa-6257-42da-9f54-77d189dcb451"
      },
      "source": [
        "items = [2,3,4,5,5,6,7,8,12]\n",
        "print('El primer elemento es:',firstElement(items, 5))\n",
        "print('El último elemento es:',lastElement(items,5))"
      ],
      "execution_count": 28,
      "outputs": [
        {
          "output_type": "stream",
          "text": [
            "El primer elemento es: 3\n",
            "El último elemento es: 4\n"
          ],
          "name": "stdout"
        }
      ]
    },
    {
      "cell_type": "code",
      "metadata": {
        "id": "m_kgCax6ikDM"
      },
      "source": [
        ""
      ],
      "execution_count": null,
      "outputs": []
    }
  ]
}